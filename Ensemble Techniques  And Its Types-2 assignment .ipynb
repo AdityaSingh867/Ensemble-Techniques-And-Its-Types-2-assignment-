{
 "cells": [
  {
   "cell_type": "markdown",
   "id": "7dcb1560-efd4-4037-8e62-5551d9542276",
   "metadata": {},
   "source": [
    "Q1. How does bagging reduce overfitting in decision trees?"
   ]
  },
  {
   "cell_type": "markdown",
   "id": "ffe48d7f-9727-406e-8ab7-938439dcc3b3",
   "metadata": {},
   "source": [
    "Bagging reduce the overfitting , First a fall we know this how Bagging make the oerfitting , Bagging make the overfitting because they use Decision tree classifire , regressor for prediction of model accuracy , Decision tree make structure like tree untill he finds leaf node , because of this there is many overfitting in Decision tree , but in bagging there is many Decision tree classifire , regressor and every Decision tree have a sample data because of this bagging reduce the overfitting."
   ]
  },
  {
   "cell_type": "markdown",
   "id": "3c59bfc4-b742-4950-85e1-37ee30acbde5",
   "metadata": {},
   "source": [
    "Q2. What are the advantages and disadvantages of using different types of base learners in bagging?"
   ]
  },
  {
   "cell_type": "markdown",
   "id": "f7dba4a4-e4cc-4746-81b9-60dc0c36e671",
   "metadata": {},
   "source": [
    "If we use different type of base learners in bagging there is a disadvantage there is different type of output , because different type of base learners gives us different type of output in regressor because in regressor output is continous , but in classifere there is only two type of output '0' or '1' , But there is also a advantage of this for many type of base learners the result of the prediction of model is very high."
   ]
  },
  {
   "cell_type": "markdown",
   "id": "0f4a5d72-a3f6-45b1-83fb-1daa1f9b18a3",
   "metadata": {},
   "source": [
    "Q3. How does the choice of base learner affect the bias-variance tradeoff in bagging?"
   ]
  },
  {
   "cell_type": "markdown",
   "id": "cdae9ae2-a72f-4512-bac8-c796a2b199ff",
   "metadata": {},
   "source": [
    "In decision tree this is chance to be overfitting for this , the accuracy of the model is high (low bias) for test data , but whenever the new dataset is come than the accuracy of modle is become low (high variance) , because of this we use bagging , In bagging there is low bias and there is also low variance for that our bagging model is predict more better. Bagging affect the bias-variance."
   ]
  },
  {
   "cell_type": "markdown",
   "id": "c2eac6ba-4d3e-4cf9-b219-470b2da61edf",
   "metadata": {},
   "source": [
    "Q4. Can bagging be used for both classification and regression tasks? How does it differ in each case?"
   ]
  },
  {
   "cell_type": "markdown",
   "id": "157b5b1c-be1f-4485-bc00-ee702c5e317c",
   "metadata": {},
   "source": [
    "Yes , we used bagging in both cases classification as well as regression dataset , there is some difference in classification bagging and regression bagging , In classification bagging there is only two type of output '0' or '1' for calculating the final output we did aggregation , but in regression bagging there is continous output for calculating the final output we take average of the output."
   ]
  },
  {
   "cell_type": "markdown",
   "id": "aaefb3a9-7aee-465b-a850-b7a066f52fc1",
   "metadata": {},
   "source": [
    "Q5. What is the role of ensemble size in bagging? How many models should be included in the ensemble?"
   ]
  },
  {
   "cell_type": "markdown",
   "id": "2165e3b0-115c-4c8e-9971-4e66e8f22a94",
   "metadata": {},
   "source": [
    "- helps to reduce variance, and by extension, prevent overfitting\n",
    "- There are no restrictions/guidelines on the number of models"
   ]
  },
  {
   "cell_type": "markdown",
   "id": "d3a306c3-19d4-4c9c-bb8c-42e03afc7df4",
   "metadata": {},
   "source": [
    "Q6. Can you provide an example of a real-world application of bagging in machine learning?"
   ]
  },
  {
   "cell_type": "markdown",
   "id": "d8f476e9-6b31-4d89-971a-9971fe38fbed",
   "metadata": {},
   "source": [
    "One key use case of bagging is in healthcare, where it has been used to form medical data predictions."
   ]
  }
 ],
 "metadata": {
  "kernelspec": {
   "display_name": "Python 3 (ipykernel)",
   "language": "python",
   "name": "python3"
  },
  "language_info": {
   "codemirror_mode": {
    "name": "ipython",
    "version": 3
   },
   "file_extension": ".py",
   "mimetype": "text/x-python",
   "name": "python",
   "nbconvert_exporter": "python",
   "pygments_lexer": "ipython3",
   "version": "3.10.8"
  }
 },
 "nbformat": 4,
 "nbformat_minor": 5
}
